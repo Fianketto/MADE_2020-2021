{
 "cells": [
  {
   "cell_type": "code",
   "execution_count": 1,
   "metadata": {},
   "outputs": [],
   "source": [
    "import pandas as pd\n",
    "import numpy as np\n",
    "import json\n",
    "import nltk\n",
    "import re\n",
    "import csv\n",
    "import matplotlib.pyplot as plt \n",
    "import seaborn as sns\n",
    "from tqdm import tqdm\n",
    "from sklearn.feature_extraction.text import TfidfVectorizer\n",
    "from sklearn.model_selection import train_test_split"
   ]
  },
  {
   "cell_type": "code",
   "execution_count": 2,
   "metadata": {},
   "outputs": [],
   "source": [
    "%matplotlib inline\n",
    "pd.set_option('display.max_colwidth', 300)"
   ]
  },
  {
   "cell_type": "code",
   "execution_count": 3,
   "metadata": {},
   "outputs": [
    {
     "data": {
      "text/html": [
       "<div>\n",
       "<style scoped>\n",
       "    .dataframe tbody tr th:only-of-type {\n",
       "        vertical-align: middle;\n",
       "    }\n",
       "\n",
       "    .dataframe tbody tr th {\n",
       "        vertical-align: top;\n",
       "    }\n",
       "\n",
       "    .dataframe thead th {\n",
       "        text-align: right;\n",
       "    }\n",
       "</style>\n",
       "<table border=\"1\" class=\"dataframe\">\n",
       "  <thead>\n",
       "    <tr style=\"text-align: right;\">\n",
       "      <th></th>\n",
       "      <th>id</th>\n",
       "      <th>movie</th>\n",
       "      <th>dialogue</th>\n",
       "      <th>genres</th>\n",
       "    </tr>\n",
       "  </thead>\n",
       "  <tbody>\n",
       "    <tr>\n",
       "      <th>0</th>\n",
       "      <td>0</td>\n",
       "      <td>0</td>\n",
       "      <td>I thought you were in a meeting--? &lt;BR&gt; I am.  With you.</td>\n",
       "      <td>[u'drama', u'romance']</td>\n",
       "    </tr>\n",
       "    <tr>\n",
       "      <th>1</th>\n",
       "      <td>1</td>\n",
       "      <td>1</td>\n",
       "      <td>Are you sure you're okay?  You're pale. &lt;BR&gt; I feel like shit.  Me and my frigging nosebleeds. &lt;BR&gt; I'm taking you to the doctor when we get home and I don't want to hear any arguments. &lt;BR&gt; Would you be bummed out if I didn't go to Chicago with you? &lt;BR&gt; No not at all.  Sure.  You're right. You...</td>\n",
       "      <td>[u'drama']</td>\n",
       "    </tr>\n",
       "    <tr>\n",
       "      <th>2</th>\n",
       "      <td>2</td>\n",
       "      <td>2</td>\n",
       "      <td>Go on! Get out! &lt;BR&gt; Mom look don't say anything. First of all I'm not pregnant.</td>\n",
       "      <td>[u'comedy']</td>\n",
       "    </tr>\n",
       "    <tr>\n",
       "      <th>3</th>\n",
       "      <td>3</td>\n",
       "      <td>3</td>\n",
       "      <td>I could have lost my fucking hands. &lt;BR&gt; That would have kept you out of the Magic Circle.  Which was presumably the idea.  These are about Nix.</td>\n",
       "      <td>[u'mystery', u'thriller']</td>\n",
       "    </tr>\n",
       "    <tr>\n",
       "      <th>4</th>\n",
       "      <td>4</td>\n",
       "      <td>4</td>\n",
       "      <td>Stick with me on this Gloria.  I need you... &lt;BR&gt; And if the teeth aren't Suzie's?  You'll give this up? &lt;BR&gt; If I'm wrong about those teeth -- it's a promise.</td>\n",
       "      <td>[u'crime', u'thriller']</td>\n",
       "    </tr>\n",
       "  </tbody>\n",
       "</table>\n",
       "</div>"
      ],
      "text/plain": [
       "   id  movie  \\\n",
       "0   0      0   \n",
       "1   1      1   \n",
       "2   2      2   \n",
       "3   3      3   \n",
       "4   4      4   \n",
       "\n",
       "                                                                                                                                                                                                                                                                                                      dialogue  \\\n",
       "0                                                                                                                                                                                                                                                     I thought you were in a meeting--? <BR> I am.  With you.   \n",
       "1  Are you sure you're okay?  You're pale. <BR> I feel like shit.  Me and my frigging nosebleeds. <BR> I'm taking you to the doctor when we get home and I don't want to hear any arguments. <BR> Would you be bummed out if I didn't go to Chicago with you? <BR> No not at all.  Sure.  You're right. You...   \n",
       "2                                                                                                                                                                                                                             Go on! Get out! <BR> Mom look don't say anything. First of all I'm not pregnant.   \n",
       "3                                                                                                                                                             I could have lost my fucking hands. <BR> That would have kept you out of the Magic Circle.  Which was presumably the idea.  These are about Nix.   \n",
       "4                                                                                                                                              Stick with me on this Gloria.  I need you... <BR> And if the teeth aren't Suzie's?  You'll give this up? <BR> If I'm wrong about those teeth -- it's a promise.   \n",
       "\n",
       "                      genres  \n",
       "0     [u'drama', u'romance']  \n",
       "1                 [u'drama']  \n",
       "2                [u'comedy']  \n",
       "3  [u'mystery', u'thriller']  \n",
       "4    [u'crime', u'thriller']  "
      ]
     },
     "execution_count": 3,
     "metadata": {},
     "output_type": "execute_result"
    }
   ],
   "source": [
    "meta = pd.read_csv(\"data_files/train.csv\", sep = ',')\n",
    "meta.head()"
   ]
  },
  {
   "cell_type": "code",
   "execution_count": 4,
   "metadata": {},
   "outputs": [
    {
     "data": {
      "text/html": [
       "<div>\n",
       "<style scoped>\n",
       "    .dataframe tbody tr th:only-of-type {\n",
       "        vertical-align: middle;\n",
       "    }\n",
       "\n",
       "    .dataframe tbody tr th {\n",
       "        vertical-align: top;\n",
       "    }\n",
       "\n",
       "    .dataframe thead th {\n",
       "        text-align: right;\n",
       "    }\n",
       "</style>\n",
       "<table border=\"1\" class=\"dataframe\">\n",
       "  <thead>\n",
       "    <tr style=\"text-align: right;\">\n",
       "      <th></th>\n",
       "      <th>movie</th>\n",
       "      <th>dialogue</th>\n",
       "      <th>genres</th>\n",
       "      <th>genres_list</th>\n",
       "    </tr>\n",
       "  </thead>\n",
       "  <tbody>\n",
       "    <tr>\n",
       "      <th>0</th>\n",
       "      <td>0</td>\n",
       "      <td>I thought you were in a meeting--? &lt;BR&gt; I am.  With you.</td>\n",
       "      <td>[u'drama', u'romance']</td>\n",
       "      <td>[drama, romance]</td>\n",
       "    </tr>\n",
       "    <tr>\n",
       "      <th>1</th>\n",
       "      <td>1</td>\n",
       "      <td>Are you sure you're okay?  You're pale. &lt;BR&gt; I feel like shit.  Me and my frigging nosebleeds. &lt;BR&gt; I'm taking you to the doctor when we get home and I don't want to hear any arguments. &lt;BR&gt; Would you be bummed out if I didn't go to Chicago with you? &lt;BR&gt; No not at all.  Sure.  You're right. You...</td>\n",
       "      <td>[u'drama']</td>\n",
       "      <td>[drama]</td>\n",
       "    </tr>\n",
       "    <tr>\n",
       "      <th>2</th>\n",
       "      <td>2</td>\n",
       "      <td>Go on! Get out! &lt;BR&gt; Mom look don't say anything. First of all I'm not pregnant.</td>\n",
       "      <td>[u'comedy']</td>\n",
       "      <td>[comedy]</td>\n",
       "    </tr>\n",
       "    <tr>\n",
       "      <th>3</th>\n",
       "      <td>3</td>\n",
       "      <td>I could have lost my fucking hands. &lt;BR&gt; That would have kept you out of the Magic Circle.  Which was presumably the idea.  These are about Nix.</td>\n",
       "      <td>[u'mystery', u'thriller']</td>\n",
       "      <td>[mystery, thriller]</td>\n",
       "    </tr>\n",
       "    <tr>\n",
       "      <th>4</th>\n",
       "      <td>4</td>\n",
       "      <td>Stick with me on this Gloria.  I need you... &lt;BR&gt; And if the teeth aren't Suzie's?  You'll give this up? &lt;BR&gt; If I'm wrong about those teeth -- it's a promise.</td>\n",
       "      <td>[u'crime', u'thriller']</td>\n",
       "      <td>[crime, thriller]</td>\n",
       "    </tr>\n",
       "  </tbody>\n",
       "</table>\n",
       "</div>"
      ],
      "text/plain": [
       "   movie  \\\n",
       "0      0   \n",
       "1      1   \n",
       "2      2   \n",
       "3      3   \n",
       "4      4   \n",
       "\n",
       "                                                                                                                                                                                                                                                                                                      dialogue  \\\n",
       "0                                                                                                                                                                                                                                                     I thought you were in a meeting--? <BR> I am.  With you.   \n",
       "1  Are you sure you're okay?  You're pale. <BR> I feel like shit.  Me and my frigging nosebleeds. <BR> I'm taking you to the doctor when we get home and I don't want to hear any arguments. <BR> Would you be bummed out if I didn't go to Chicago with you? <BR> No not at all.  Sure.  You're right. You...   \n",
       "2                                                                                                                                                                                                                             Go on! Get out! <BR> Mom look don't say anything. First of all I'm not pregnant.   \n",
       "3                                                                                                                                                             I could have lost my fucking hands. <BR> That would have kept you out of the Magic Circle.  Which was presumably the idea.  These are about Nix.   \n",
       "4                                                                                                                                              Stick with me on this Gloria.  I need you... <BR> And if the teeth aren't Suzie's?  You'll give this up? <BR> If I'm wrong about those teeth -- it's a promise.   \n",
       "\n",
       "                      genres          genres_list  \n",
       "0     [u'drama', u'romance']     [drama, romance]  \n",
       "1                 [u'drama']              [drama]  \n",
       "2                [u'comedy']             [comedy]  \n",
       "3  [u'mystery', u'thriller']  [mystery, thriller]  \n",
       "4    [u'crime', u'thriller']    [crime, thriller]  "
      ]
     },
     "execution_count": 4,
     "metadata": {},
     "output_type": "execute_result"
    }
   ],
   "source": [
    "movies = meta[['movie', 'dialogue', 'genres']]\n",
    "movies.head()\n",
    "def remove_chars(input_string, list_of_chars=[\"[\", \"]\", \"'\"]):\n",
    "    for c in list_of_chars:\n",
    "        input_string = input_string.replace(c, \"\")\n",
    "    return input_string\n",
    "\n",
    "def make_list(row):\n",
    "    tmp_list = remove_chars(row['genres']).split(\", \")\n",
    "    res_list = [x[1:] for x in tmp_list]\n",
    "    return(res_list)\n",
    "    \n",
    "movies['genres_list'] = movies.apply(make_list, axis=1)\n",
    "movies.head()"
   ]
  },
  {
   "cell_type": "code",
   "execution_count": 5,
   "metadata": {},
   "outputs": [
    {
     "data": {
      "text/plain": [
       "20"
      ]
     },
     "execution_count": 5,
     "metadata": {},
     "output_type": "execute_result"
    }
   ],
   "source": [
    "all_genres = sum(movies['genres_list'],[])\n",
    "len(set(all_genres))"
   ]
  },
  {
   "cell_type": "code",
   "execution_count": 6,
   "metadata": {
    "scrolled": false
   },
   "outputs": [
    {
     "data": {
      "image/png": "[encoded data removed]",
      "text/plain": [
       "<Figure size 864x1080 with 1 Axes>"
      ]
     },
     "metadata": {
      "needs_background": "light"
     },
     "output_type": "display_data"
    }
   ],
   "source": [
    "all_genres = nltk.FreqDist(all_genres) \n",
    "\n",
    "# create dataframe\n",
    "all_genres_df = pd.DataFrame({'Genre': list(all_genres.keys()), \n",
    "                              'Count': list(all_genres.values())})\n",
    "g = all_genres_df.nlargest(columns=\"Count\", n = 50) \n",
    "plt.figure(figsize=(12,15)) \n",
    "ax = sns.barplot(data=g, x= \"Count\", y = \"Genre\") \n",
    "plt.show()"
   ]
  },
  {
   "cell_type": "code",
   "execution_count": 7,
   "metadata": {
    "scrolled": true
   },
   "outputs": [
    {
     "data": {
      "text/html": [
       "<div>\n",
       "<style scoped>\n",
       "    .dataframe tbody tr th:only-of-type {\n",
       "        vertical-align: middle;\n",
       "    }\n",
       "\n",
       "    .dataframe tbody tr th {\n",
       "        vertical-align: top;\n",
       "    }\n",
       "\n",
       "    .dataframe thead th {\n",
       "        text-align: right;\n",
       "    }\n",
       "</style>\n",
       "<table border=\"1\" class=\"dataframe\">\n",
       "  <thead>\n",
       "    <tr style=\"text-align: right;\">\n",
       "      <th></th>\n",
       "      <th>movie</th>\n",
       "      <th>dialogue</th>\n",
       "      <th>genres</th>\n",
       "      <th>genres_list</th>\n",
       "      <th>dialogue2</th>\n",
       "      <th>clean_dialogue</th>\n",
       "    </tr>\n",
       "  </thead>\n",
       "  <tbody>\n",
       "    <tr>\n",
       "      <th>0</th>\n",
       "      <td>0</td>\n",
       "      <td>I thought you were in a meeting--? &lt;BR&gt; I am.  With you.</td>\n",
       "      <td>[u'drama', u'romance']</td>\n",
       "      <td>[drama, romance]</td>\n",
       "      <td>I thought you were in a meeting--?  I am.  With you.</td>\n",
       "      <td>i thought you were in a meeting i am with you</td>\n",
       "    </tr>\n",
       "    <tr>\n",
       "      <th>1</th>\n",
       "      <td>1</td>\n",
       "      <td>Are you sure you're okay?  You're pale. &lt;BR&gt; I feel like shit.  Me and my frigging nosebleeds. &lt;BR&gt; I'm taking you to the doctor when we get home and I don't want to hear any arguments. &lt;BR&gt; Would you be bummed out if I didn't go to Chicago with you? &lt;BR&gt; No not at all.  Sure.  You're right. You...</td>\n",
       "      <td>[u'drama']</td>\n",
       "      <td>[drama]</td>\n",
       "      <td>Are you sure you're okay?  You're pale.  I feel like shit.  Me and my frigging nosebleeds.  I'm taking you to the doctor when we get home and I don't want to hear any arguments.  Would you be bummed out if I didn't go to Chicago with you?  No not at all.  Sure.  You're right. You fly home and ge...</td>\n",
       "      <td>are you sure youre okay youre pale i feel like shit me and my frigging nosebleeds im taking you to the doctor when we get home and i dont want to hear any arguments would you be bummed out if i didnt go to chicago with you no not at all sure youre right you fly home and get some rest nice first ...</td>\n",
       "    </tr>\n",
       "    <tr>\n",
       "      <th>2</th>\n",
       "      <td>2</td>\n",
       "      <td>Go on! Get out! &lt;BR&gt; Mom look don't say anything. First of all I'm not pregnant.</td>\n",
       "      <td>[u'comedy']</td>\n",
       "      <td>[comedy]</td>\n",
       "      <td>Go on! Get out!  Mom look don't say anything. First of all I'm not pregnant.</td>\n",
       "      <td>go on get out mom look dont say anything first of all im not pregnant</td>\n",
       "    </tr>\n",
       "    <tr>\n",
       "      <th>3</th>\n",
       "      <td>3</td>\n",
       "      <td>I could have lost my fucking hands. &lt;BR&gt; That would have kept you out of the Magic Circle.  Which was presumably the idea.  These are about Nix.</td>\n",
       "      <td>[u'mystery', u'thriller']</td>\n",
       "      <td>[mystery, thriller]</td>\n",
       "      <td>I could have lost my fucking hands.  That would have kept you out of the Magic Circle.  Which was presumably the idea.  These are about Nix.</td>\n",
       "      <td>i could have lost my fucking hands that would have kept you out of the magic circle which was presumably the idea these are about nix</td>\n",
       "    </tr>\n",
       "    <tr>\n",
       "      <th>4</th>\n",
       "      <td>4</td>\n",
       "      <td>Stick with me on this Gloria.  I need you... &lt;BR&gt; And if the teeth aren't Suzie's?  You'll give this up? &lt;BR&gt; If I'm wrong about those teeth -- it's a promise.</td>\n",
       "      <td>[u'crime', u'thriller']</td>\n",
       "      <td>[crime, thriller]</td>\n",
       "      <td>Stick with me on this Gloria.  I need you...  And if the teeth aren't Suzie's?  You'll give this up?  If I'm wrong about those teeth -- it's a promise.</td>\n",
       "      <td>stick with me on this gloria i need you and if the teeth arent suzies youll give this up if im wrong about those teeth its a promise</td>\n",
       "    </tr>\n",
       "  </tbody>\n",
       "</table>\n",
       "</div>"
      ],
      "text/plain": [
       "   movie  \\\n",
       "0      0   \n",
       "1      1   \n",
       "2      2   \n",
       "3      3   \n",
       "4      4   \n",
       "\n",
       "                                                                                                                                                                                                                                                                                                      dialogue  \\\n",
       "0                                                                                                                                                                                                                                                     I thought you were in a meeting--? <BR> I am.  With you.   \n",
       "1  Are you sure you're okay?  You're pale. <BR> I feel like shit.  Me and my frigging nosebleeds. <BR> I'm taking you to the doctor when we get home and I don't want to hear any arguments. <BR> Would you be bummed out if I didn't go to Chicago with you? <BR> No not at all.  Sure.  You're right. You...   \n",
       "2                                                                                                                                                                                                                             Go on! Get out! <BR> Mom look don't say anything. First of all I'm not pregnant.   \n",
       "3                                                                                                                                                             I could have lost my fucking hands. <BR> That would have kept you out of the Magic Circle.  Which was presumably the idea.  These are about Nix.   \n",
       "4                                                                                                                                              Stick with me on this Gloria.  I need you... <BR> And if the teeth aren't Suzie's?  You'll give this up? <BR> If I'm wrong about those teeth -- it's a promise.   \n",
       "\n",
       "                      genres          genres_list  \\\n",
       "0     [u'drama', u'romance']     [drama, romance]   \n",
       "1                 [u'drama']              [drama]   \n",
       "2                [u'comedy']             [comedy]   \n",
       "3  [u'mystery', u'thriller']  [mystery, thriller]   \n",
       "4    [u'crime', u'thriller']    [crime, thriller]   \n",
       "\n",
       "                                                                                                                                                                                                                                                                                                     dialogue2  \\\n",
       "0                                                                                                                                                                                                                                                         I thought you were in a meeting--?  I am.  With you.   \n",
       "1  Are you sure you're okay?  You're pale.  I feel like shit.  Me and my frigging nosebleeds.  I'm taking you to the doctor when we get home and I don't want to hear any arguments.  Would you be bummed out if I didn't go to Chicago with you?  No not at all.  Sure.  You're right. You fly home and ge...   \n",
       "2                                                                                                                                                                                                                                 Go on! Get out!  Mom look don't say anything. First of all I'm not pregnant.   \n",
       "3                                                                                                                                                                 I could have lost my fucking hands.  That would have kept you out of the Magic Circle.  Which was presumably the idea.  These are about Nix.   \n",
       "4                                                                                                                                                      Stick with me on this Gloria.  I need you...  And if the teeth aren't Suzie's?  You'll give this up?  If I'm wrong about those teeth -- it's a promise.   \n",
       "\n",
       "                                                                                                                                                                                                                                                                                                clean_dialogue  \n",
       "0                                                                                                                                                                                                                                                                i thought you were in a meeting i am with you  \n",
       "1  are you sure youre okay youre pale i feel like shit me and my frigging nosebleeds im taking you to the doctor when we get home and i dont want to hear any arguments would you be bummed out if i didnt go to chicago with you no not at all sure youre right you fly home and get some rest nice first ...  \n",
       "2                                                                                                                                                                                                                                        go on get out mom look dont say anything first of all im not pregnant  \n",
       "3                                                                                                                                                                        i could have lost my fucking hands that would have kept you out of the magic circle which was presumably the idea these are about nix  \n",
       "4                                                                                                                                                                         stick with me on this gloria i need you and if the teeth arent suzies youll give this up if im wrong about those teeth its a promise  "
      ]
     },
     "execution_count": 7,
     "metadata": {},
     "output_type": "execute_result"
    }
   ],
   "source": [
    "def remove_BR(row):\n",
    "    tmp_list = remove_chars(row['dialogue'], [\"<BR>\"])\n",
    "    return(tmp_list)\n",
    "\n",
    "def clean_text(text):\n",
    "    # remove backslash-apostrophe \n",
    "    text = re.sub(\"\\'\", \"\", text) \n",
    "    # remove everything except alphabets \n",
    "    text = re.sub(\"[^a-zA-Z]\",\" \",text) \n",
    "    # remove whitespaces \n",
    "    text = ' '.join(text.split()) \n",
    "    # convert text to lowercase \n",
    "    text = text.lower() \n",
    "    \n",
    "    return text\n",
    "\n",
    "movies['dialogue2'] = movies.apply(remove_BR, axis=1)\n",
    "movies['clean_dialogue'] = movies['dialogue2'].apply(lambda x: clean_text(x))\n",
    "movies.head()"
   ]
  },
  {
   "cell_type": "code",
   "execution_count": 8,
   "metadata": {
    "scrolled": true
   },
   "outputs": [
    {
     "data": {
      "image/png": "[encoded data removed]",
      "text/plain": [
       "<Figure size 864x1080 with 1 Axes>"
      ]
     },
     "metadata": {
      "needs_background": "light"
     },
     "output_type": "display_data"
    }
   ],
   "source": [
    "def freq_words(x, terms = 30): \n",
    "    all_words = ' '.join([text for text in x]) \n",
    "    all_words = all_words.split() \n",
    "    fdist = nltk.FreqDist(all_words) \n",
    "    words_df = pd.DataFrame({'word':list(fdist.keys()), 'count':list(fdist.values())}) \n",
    "\n",
    "    # selecting top 20 most frequent words \n",
    "    d = words_df.nlargest(columns=\"count\", n = terms) \n",
    "\n",
    "    # visualize words and frequencies\n",
    "    plt.figure(figsize=(12,15)) \n",
    "    ax = sns.barplot(data=d, x= \"count\", y = \"word\") \n",
    "    ax.set(ylabel = 'Word') \n",
    "    plt.show()\n",
    "\n",
    "# print 100 most frequent words \n",
    "freq_words(movies['clean_dialogue'], 100)"
   ]
  },
  {
   "cell_type": "code",
   "execution_count": 9,
   "metadata": {
    "scrolled": true
   },
   "outputs": [
    {
     "name": "stderr",
     "output_type": "stream",
     "text": [
      "[nltk_data] Downloading package stopwords to\n",
      "[nltk_data]     C:\\Users\\ogadzhily\\AppData\\Roaming\\nltk_data...\n",
      "[nltk_data]   Package stopwords is already up-to-date!\n"
     ]
    },
    {
     "data": {
      "image/png": "[encoded data removed]",
      "text/plain": [
       "<Figure size 864x1080 with 1 Axes>"
      ]
     },
     "metadata": {
      "needs_background": "light"
     },
     "output_type": "display_data"
    }
   ],
   "source": [
    "nltk.download('stopwords')\n",
    "from nltk.corpus import stopwords\n",
    "stop_words = set(stopwords.words('english'))\n",
    "\n",
    "# function to remove stopwords\n",
    "def remove_stopwords(text):\n",
    "    no_stopword_text = [w for w in text.split() if not w in stop_words]\n",
    "    return ' '.join(no_stopword_text)\n",
    "\n",
    "#movies['clean_dialogue'] = movies['clean_dialogue'].apply(lambda x: remove_stopwords(x))\n",
    "freq_words(movies['clean_dialogue'], 100)"
   ]
  },
  {
   "cell_type": "code",
   "execution_count": 10,
   "metadata": {},
   "outputs": [],
   "source": [
    "from sklearn.preprocessing import MultiLabelBinarizer\n",
    "\n",
    "multilabel_binarizer = MultiLabelBinarizer()\n",
    "multilabel_binarizer.fit(movies['genres_list'])\n",
    "\n",
    "# transform target variable\n",
    "y = multilabel_binarizer.transform(movies['genres_list'])\n",
    "\n",
    "tfidf_vectorizer = TfidfVectorizer(max_df=0.8, max_features=10000)\n",
    "# split dataset into training and validation set\n",
    "xtrain, xval, ytrain, yval = train_test_split(movies['clean_dialogue'], y, test_size=0.2, random_state=9)\n",
    "\n",
    "# create TF-IDF features\n",
    "xtrain_tfidf = tfidf_vectorizer.fit_transform(xtrain)\n",
    "xval_tfidf = tfidf_vectorizer.transform(xval)"
   ]
  },
  {
   "cell_type": "code",
   "execution_count": 11,
   "metadata": {},
   "outputs": [
    {
     "data": {
      "text/plain": [
       "array([0, 0, 0, 0, 0, 0, 1, 0, 0, 0, 0, 0, 0, 1, 0, 0, 0, 0, 0, 0])"
      ]
     },
     "execution_count": 11,
     "metadata": {},
     "output_type": "execute_result"
    }
   ],
   "source": [
    "from sklearn.linear_model import LogisticRegression\n",
    "\n",
    "# Binary Relevance\n",
    "from sklearn.multiclass import OneVsRestClassifier\n",
    "\n",
    "# Performance metric\n",
    "from sklearn.metrics import f1_score\n",
    "\n",
    "lr = LogisticRegression(max_iter=1000)\n",
    "clf = OneVsRestClassifier(lr)\n",
    "\n",
    "# fit model on train data\n",
    "clf.fit(xtrain_tfidf, ytrain)\n",
    "\n",
    "# make predictions for validation set\n",
    "y_pred = clf.predict(xval_tfidf)\n",
    "\n",
    "y_pred[3]"
   ]
  },
  {
   "cell_type": "code",
   "execution_count": 12,
   "metadata": {},
   "outputs": [
    {
     "data": {
      "text/plain": [
       "0.5729517396184064"
      ]
     },
     "execution_count": 12,
     "metadata": {},
     "output_type": "execute_result"
    }
   ],
   "source": [
    "multilabel_binarizer.inverse_transform(y_pred)[3]\n",
    "# evaluate performance\n",
    "f1_score(yval, y_pred, average=\"micro\")"
   ]
  },
  {
   "cell_type": "code",
   "execution_count": 13,
   "metadata": {},
   "outputs": [
    {
     "name": "stdout",
     "output_type": "stream",
     "text": [
      "0.6528663530231748\n",
      "[('comedy', 'thriller'), ('comedy', 'drama'), ('drama',), ('drama', 'mystery'), ('crime', 'drama')]\n"
     ]
    }
   ],
   "source": [
    "# predict probabilities\n",
    "y_pred_prob = clf.predict_proba(xval_tfidf)\n",
    "for i in range(101):\n",
    "    t = i / 100\n",
    "    y_pred_new = (y_pred_prob >= t).astype(int)\n",
    "\n",
    "    # evaluate performance\n",
    "    f1 = f1_score(yval, y_pred_new, average=\"micro\")\n",
    "    #print(i, t, f1)\n",
    "\n",
    "t = 0.28 # threshold value\n",
    "y_pred_new = (y_pred_prob >= t).astype(int)\n",
    "f1 = f1_score(yval, y_pred_new, average=\"micro\")\n",
    "print(f1)\n",
    "predicted_labels = multilabel_binarizer.inverse_transform(y_pred_new)\n",
    "print(predicted_labels[:5])"
   ]
  },
  {
   "cell_type": "markdown",
   "metadata": {},
   "source": [
    "TEST SAMPLE"
   ]
  },
  {
   "cell_type": "code",
   "execution_count": 14,
   "metadata": {},
   "outputs": [
    {
     "data": {
      "text/html": [
       "<div>\n",
       "<style scoped>\n",
       "    .dataframe tbody tr th:only-of-type {\n",
       "        vertical-align: middle;\n",
       "    }\n",
       "\n",
       "    .dataframe tbody tr th {\n",
       "        vertical-align: top;\n",
       "    }\n",
       "\n",
       "    .dataframe thead th {\n",
       "        text-align: right;\n",
       "    }\n",
       "</style>\n",
       "<table border=\"1\" class=\"dataframe\">\n",
       "  <thead>\n",
       "    <tr style=\"text-align: right;\">\n",
       "      <th></th>\n",
       "      <th>id</th>\n",
       "      <th>dialogue</th>\n",
       "    </tr>\n",
       "  </thead>\n",
       "  <tbody>\n",
       "    <tr>\n",
       "      <th>0</th>\n",
       "      <td>0</td>\n",
       "      <td>Boy! Did you see the way Mama whopped that deputy with her shoe? Knocked the gun right out ... &lt;BR&gt; I don't want you hanging around there hear?</td>\n",
       "    </tr>\n",
       "    <tr>\n",
       "      <th>1</th>\n",
       "      <td>1</td>\n",
       "      <td>Gordon, the insurance people are balking on the logging trucks... &lt;BR&gt; Tell those spineless toads we'll self-insure if they don't write it... You fire 33 vice presidents and nothing changes...  You eating twinkies today, Bud, or are you schtupping some stewardess...</td>\n",
       "    </tr>\n",
       "    <tr>\n",
       "      <th>2</th>\n",
       "      <td>2</td>\n",
       "      <td>Very fancy.  Did you design the bottle? &lt;BR&gt; Who else?  I'm the one who runs the estates while you're here risking everything we have for the glory of Rome!  Or for the glory of you! &lt;BR&gt; I'm a soldier -- we're at war.  I can't stay home tending the damned olive groves? &lt;BR&gt; We don't need your h...</td>\n",
       "    </tr>\n",
       "    <tr>\n",
       "      <th>3</th>\n",
       "      <td>3</td>\n",
       "      <td>It makes me so mad. Steven Schwimmer ready to strike. The exterminating angel. &lt;BR&gt; It's all worked out. They'll lose tonight. Then they'll lose tomorrow. I see it with stunning clarity. &lt;BR&gt; It's your best play Nicky. &lt;BR&gt; They'll lose because they're my team. &lt;BR&gt; He will absolutely hate it.</td>\n",
       "    </tr>\n",
       "    <tr>\n",
       "      <th>4</th>\n",
       "      <td>4</td>\n",
       "      <td>Something ought to loosen him up ... how comes we're going to El Paso Rudy? &lt;BR&gt; I Just want to find a suitcase.</td>\n",
       "    </tr>\n",
       "  </tbody>\n",
       "</table>\n",
       "</div>"
      ],
      "text/plain": [
       "   id  \\\n",
       "0   0   \n",
       "1   1   \n",
       "2   2   \n",
       "3   3   \n",
       "4   4   \n",
       "\n",
       "                                                                                                                                                                                                                                                                                                      dialogue  \n",
       "0                                                                                                                                                              Boy! Did you see the way Mama whopped that deputy with her shoe? Knocked the gun right out ... <BR> I don't want you hanging around there hear?  \n",
       "1                                   Gordon, the insurance people are balking on the logging trucks... <BR> Tell those spineless toads we'll self-insure if they don't write it... You fire 33 vice presidents and nothing changes...  You eating twinkies today, Bud, or are you schtupping some stewardess...  \n",
       "2  Very fancy.  Did you design the bottle? <BR> Who else?  I'm the one who runs the estates while you're here risking everything we have for the glory of Rome!  Or for the glory of you! <BR> I'm a soldier -- we're at war.  I can't stay home tending the damned olive groves? <BR> We don't need your h...  \n",
       "3       It makes me so mad. Steven Schwimmer ready to strike. The exterminating angel. <BR> It's all worked out. They'll lose tonight. Then they'll lose tomorrow. I see it with stunning clarity. <BR> It's your best play Nicky. <BR> They'll lose because they're my team. <BR> He will absolutely hate it.  \n",
       "4                                                                                                                                                                                             Something ought to loosen him up ... how comes we're going to El Paso Rudy? <BR> I Just want to find a suitcase.  "
      ]
     },
     "execution_count": 14,
     "metadata": {},
     "output_type": "execute_result"
    }
   ],
   "source": [
    "test_data = pd.read_csv(\"data_files/test.csv\", sep = ',')\n",
    "test_data.head()"
   ]
  },
  {
   "cell_type": "code",
   "execution_count": 15,
   "metadata": {
    "scrolled": true
   },
   "outputs": [
    {
     "data": {
      "text/html": [
       "<div>\n",
       "<style scoped>\n",
       "    .dataframe tbody tr th:only-of-type {\n",
       "        vertical-align: middle;\n",
       "    }\n",
       "\n",
       "    .dataframe tbody tr th {\n",
       "        vertical-align: top;\n",
       "    }\n",
       "\n",
       "    .dataframe thead th {\n",
       "        text-align: right;\n",
       "    }\n",
       "</style>\n",
       "<table border=\"1\" class=\"dataframe\">\n",
       "  <thead>\n",
       "    <tr style=\"text-align: right;\">\n",
       "      <th></th>\n",
       "      <th>id</th>\n",
       "      <th>dialogue</th>\n",
       "      <th>dialogue2</th>\n",
       "      <th>clean_dialogue</th>\n",
       "    </tr>\n",
       "  </thead>\n",
       "  <tbody>\n",
       "    <tr>\n",
       "      <th>0</th>\n",
       "      <td>0</td>\n",
       "      <td>Boy! Did you see the way Mama whopped that deputy with her shoe? Knocked the gun right out ... &lt;BR&gt; I don't want you hanging around there hear?</td>\n",
       "      <td>Boy! Did you see the way Mama whopped that deputy with her shoe? Knocked the gun right out ...  I don't want you hanging around there hear?</td>\n",
       "      <td>boy did you see the way mama whopped that deputy with her shoe knocked the gun right out i dont want you hanging around there hear</td>\n",
       "    </tr>\n",
       "    <tr>\n",
       "      <th>1</th>\n",
       "      <td>1</td>\n",
       "      <td>Gordon, the insurance people are balking on the logging trucks... &lt;BR&gt; Tell those spineless toads we'll self-insure if they don't write it... You fire 33 vice presidents and nothing changes...  You eating twinkies today, Bud, or are you schtupping some stewardess...</td>\n",
       "      <td>Gordon, the insurance people are balking on the logging trucks...  Tell those spineless toads we'll self-insure if they don't write it... You fire 33 vice presidents and nothing changes...  You eating twinkies today, Bud, or are you schtupping some stewardess...</td>\n",
       "      <td>gordon the insurance people are balking on the logging trucks tell those spineless toads well self insure if they dont write it you fire vice presidents and nothing changes you eating twinkies today bud or are you schtupping some stewardess</td>\n",
       "    </tr>\n",
       "    <tr>\n",
       "      <th>2</th>\n",
       "      <td>2</td>\n",
       "      <td>Very fancy.  Did you design the bottle? &lt;BR&gt; Who else?  I'm the one who runs the estates while you're here risking everything we have for the glory of Rome!  Or for the glory of you! &lt;BR&gt; I'm a soldier -- we're at war.  I can't stay home tending the damned olive groves? &lt;BR&gt; We don't need your h...</td>\n",
       "      <td>Very fancy.  Did you design the bottle?  Who else?  I'm the one who runs the estates while you're here risking everything we have for the glory of Rome!  Or for the glory of you!  I'm a soldier -- we're at war.  I can't stay home tending the damned olive groves?  We don't need your help we're do...</td>\n",
       "      <td>very fancy did you design the bottle who else im the one who runs the estates while youre here risking everything we have for the glory of rome or for the glory of you im a soldier were at war i cant stay home tending the damned olive groves we dont need your help were doing great on our own</td>\n",
       "    </tr>\n",
       "    <tr>\n",
       "      <th>3</th>\n",
       "      <td>3</td>\n",
       "      <td>It makes me so mad. Steven Schwimmer ready to strike. The exterminating angel. &lt;BR&gt; It's all worked out. They'll lose tonight. Then they'll lose tomorrow. I see it with stunning clarity. &lt;BR&gt; It's your best play Nicky. &lt;BR&gt; They'll lose because they're my team. &lt;BR&gt; He will absolutely hate it.</td>\n",
       "      <td>It makes me so mad. Steven Schwimmer ready to strike. The exterminating angel.  It's all worked out. They'll lose tonight. Then they'll lose tomorrow. I see it with stunning clarity.  It's your best play Nicky.  They'll lose because they're my team.  He will absolutely hate it.</td>\n",
       "      <td>it makes me so mad steven schwimmer ready to strike the exterminating angel its all worked out theyll lose tonight then theyll lose tomorrow i see it with stunning clarity its your best play nicky theyll lose because theyre my team he will absolutely hate it</td>\n",
       "    </tr>\n",
       "    <tr>\n",
       "      <th>4</th>\n",
       "      <td>4</td>\n",
       "      <td>Something ought to loosen him up ... how comes we're going to El Paso Rudy? &lt;BR&gt; I Just want to find a suitcase.</td>\n",
       "      <td>Something ought to loosen him up ... how comes we're going to El Paso Rudy?  I Just want to find a suitcase.</td>\n",
       "      <td>something ought to loosen him up how comes were going to el paso rudy i just want to find a suitcase</td>\n",
       "    </tr>\n",
       "    <tr>\n",
       "      <th>5</th>\n",
       "      <td>5</td>\n",
       "      <td>I'll tell Mike I'm sick. There's a game tonight anyway and he'll never miss me. Afterwards he can go out with the guys. Just so the record is kept straight though I love Mike. What do want me to do? &lt;BR&gt; First of all we'll have a nice dinner. Try to find out where Dorothy sings. &lt;BR&gt;  &lt;BR&gt; Great...</td>\n",
       "      <td>I'll tell Mike I'm sick. There's a game tonight anyway and he'll never miss me. Afterwards he can go out with the guys. Just so the record is kept straight though I love Mike. What do want me to do?  First of all we'll have a nice dinner. Try to find out where Dorothy sings.    Great. I'll pick ...</td>\n",
       "      <td>ill tell mike im sick theres a game tonight anyway and hell never miss me afterwards he can go out with the guys just so the record is kept straight though i love mike what do want me to do first of all well have a nice dinner try to find out where dorothy sings great ill pick you up around eigh...</td>\n",
       "    </tr>\n",
       "    <tr>\n",
       "      <th>6</th>\n",
       "      <td>6</td>\n",
       "      <td>Well I guess it's getting late. Please thank Kathryn for the use of her Steinway. &lt;BR&gt; I'll see you tomorrow. &lt;BR&gt; Absolutely.</td>\n",
       "      <td>Well I guess it's getting late. Please thank Kathryn for the use of her Steinway.  I'll see you tomorrow.  Absolutely.</td>\n",
       "      <td>well i guess its getting late please thank kathryn for the use of her steinway ill see you tomorrow absolutely</td>\n",
       "    </tr>\n",
       "    <tr>\n",
       "      <th>7</th>\n",
       "      <td>7</td>\n",
       "      <td>What is it Rita? &lt;BR&gt; I'm...I'm... oh no... I thought when I woke up... I thought sleep would do it ...</td>\n",
       "      <td>What is it Rita?  I'm...I'm... oh no... I thought when I woke up... I thought sleep would do it ...</td>\n",
       "      <td>what is it rita im im oh no i thought when i woke up i thought sleep would do it</td>\n",
       "    </tr>\n",
       "    <tr>\n",
       "      <th>8</th>\n",
       "      <td>8</td>\n",
       "      <td>My God. &lt;BR&gt; But the point is Dickie -- well we know this -- Dickie loves Marge and he misses her and apparently he's come to his senses... &lt;BR&gt; It's fantastic.  I feel guilty. Marge doesn't understand this but anytime Dickie does something I feel guilty.</td>\n",
       "      <td>My God.  But the point is Dickie -- well we know this -- Dickie loves Marge and he misses her and apparently he's come to his senses...  It's fantastic.  I feel guilty. Marge doesn't understand this but anytime Dickie does something I feel guilty.</td>\n",
       "      <td>my god but the point is dickie well we know this dickie loves marge and he misses her and apparently hes come to his senses its fantastic i feel guilty marge doesnt understand this but anytime dickie does something i feel guilty</td>\n",
       "    </tr>\n",
       "    <tr>\n",
       "      <th>9</th>\n",
       "      <td>9</td>\n",
       "      <td>We combine everything. You are my second in command. &lt;BR&gt; What about the share. &lt;BR&gt; You get fifteen percent. &lt;BR&gt; I got partners. &lt;BR&gt; Your Calabrian friend I will accept. At least Costello eats pasta like us. &lt;BR&gt; And the Jews? &lt;BR&gt; Share with them as you wish. Do business with them on your ow...</td>\n",
       "      <td>We combine everything. You are my second in command.  What about the share.  You get fifteen percent.  I got partners.  Your Calabrian friend I will accept. At least Costello eats pasta like us.  And the Jews?  Share with them as you wish. Do business with them on your own. But no filthy Jew wil...</td>\n",
       "      <td>we combine everything you are my second in command what about the share you get fifteen percent i got partners your calabrian friend i will accept at least costello eats pasta like us and the jews share with them as you wish do business with them on your own but no filthy jew will ever be a brot...</td>\n",
       "    </tr>\n",
       "  </tbody>\n",
       "</table>\n",
       "</div>"
      ],
      "text/plain": [
       "   id  \\\n",
       "0   0   \n",
       "1   1   \n",
       "2   2   \n",
       "3   3   \n",
       "4   4   \n",
       "5   5   \n",
       "6   6   \n",
       "7   7   \n",
       "8   8   \n",
       "9   9   \n",
       "\n",
       "                                                                                                                                                                                                                                                                                                      dialogue  \\\n",
       "0                                                                                                                                                              Boy! Did you see the way Mama whopped that deputy with her shoe? Knocked the gun right out ... <BR> I don't want you hanging around there hear?   \n",
       "1                                   Gordon, the insurance people are balking on the logging trucks... <BR> Tell those spineless toads we'll self-insure if they don't write it... You fire 33 vice presidents and nothing changes...  You eating twinkies today, Bud, or are you schtupping some stewardess...   \n",
       "2  Very fancy.  Did you design the bottle? <BR> Who else?  I'm the one who runs the estates while you're here risking everything we have for the glory of Rome!  Or for the glory of you! <BR> I'm a soldier -- we're at war.  I can't stay home tending the damned olive groves? <BR> We don't need your h...   \n",
       "3       It makes me so mad. Steven Schwimmer ready to strike. The exterminating angel. <BR> It's all worked out. They'll lose tonight. Then they'll lose tomorrow. I see it with stunning clarity. <BR> It's your best play Nicky. <BR> They'll lose because they're my team. <BR> He will absolutely hate it.   \n",
       "4                                                                                                                                                                                             Something ought to loosen him up ... how comes we're going to El Paso Rudy? <BR> I Just want to find a suitcase.   \n",
       "5  I'll tell Mike I'm sick. There's a game tonight anyway and he'll never miss me. Afterwards he can go out with the guys. Just so the record is kept straight though I love Mike. What do want me to do? <BR> First of all we'll have a nice dinner. Try to find out where Dorothy sings. <BR>  <BR> Great...   \n",
       "6                                                                                                                                                                               Well I guess it's getting late. Please thank Kathryn for the use of her Steinway. <BR> I'll see you tomorrow. <BR> Absolutely.   \n",
       "7                                                                                                                                                                                                      What is it Rita? <BR> I'm...I'm... oh no... I thought when I woke up... I thought sleep would do it ...   \n",
       "8                                              My God. <BR> But the point is Dickie -- well we know this -- Dickie loves Marge and he misses her and apparently he's come to his senses... <BR> It's fantastic.  I feel guilty. Marge doesn't understand this but anytime Dickie does something I feel guilty.   \n",
       "9  We combine everything. You are my second in command. <BR> What about the share. <BR> You get fifteen percent. <BR> I got partners. <BR> Your Calabrian friend I will accept. At least Costello eats pasta like us. <BR> And the Jews? <BR> Share with them as you wish. Do business with them on your ow...   \n",
       "\n",
       "                                                                                                                                                                                                                                                                                                     dialogue2  \\\n",
       "0                                                                                                                                                                  Boy! Did you see the way Mama whopped that deputy with her shoe? Knocked the gun right out ...  I don't want you hanging around there hear?   \n",
       "1                                       Gordon, the insurance people are balking on the logging trucks...  Tell those spineless toads we'll self-insure if they don't write it... You fire 33 vice presidents and nothing changes...  You eating twinkies today, Bud, or are you schtupping some stewardess...   \n",
       "2  Very fancy.  Did you design the bottle?  Who else?  I'm the one who runs the estates while you're here risking everything we have for the glory of Rome!  Or for the glory of you!  I'm a soldier -- we're at war.  I can't stay home tending the damned olive groves?  We don't need your help we're do...   \n",
       "3                       It makes me so mad. Steven Schwimmer ready to strike. The exterminating angel.  It's all worked out. They'll lose tonight. Then they'll lose tomorrow. I see it with stunning clarity.  It's your best play Nicky.  They'll lose because they're my team.  He will absolutely hate it.   \n",
       "4                                                                                                                                                                                                 Something ought to loosen him up ... how comes we're going to El Paso Rudy?  I Just want to find a suitcase.   \n",
       "5  I'll tell Mike I'm sick. There's a game tonight anyway and he'll never miss me. Afterwards he can go out with the guys. Just so the record is kept straight though I love Mike. What do want me to do?  First of all we'll have a nice dinner. Try to find out where Dorothy sings.    Great. I'll pick ...   \n",
       "6                                                                                                                                                                                       Well I guess it's getting late. Please thank Kathryn for the use of her Steinway.  I'll see you tomorrow.  Absolutely.   \n",
       "7                                                                                                                                                                                                          What is it Rita?  I'm...I'm... oh no... I thought when I woke up... I thought sleep would do it ...   \n",
       "8                                                      My God.  But the point is Dickie -- well we know this -- Dickie loves Marge and he misses her and apparently he's come to his senses...  It's fantastic.  I feel guilty. Marge doesn't understand this but anytime Dickie does something I feel guilty.   \n",
       "9  We combine everything. You are my second in command.  What about the share.  You get fifteen percent.  I got partners.  Your Calabrian friend I will accept. At least Costello eats pasta like us.  And the Jews?  Share with them as you wish. Do business with them on your own. But no filthy Jew wil...   \n",
       "\n",
       "                                                                                                                                                                                                                                                                                                clean_dialogue  \n",
       "0                                                                                                                                                                           boy did you see the way mama whopped that deputy with her shoe knocked the gun right out i dont want you hanging around there hear  \n",
       "1                                                             gordon the insurance people are balking on the logging trucks tell those spineless toads well self insure if they dont write it you fire vice presidents and nothing changes you eating twinkies today bud or are you schtupping some stewardess  \n",
       "2         very fancy did you design the bottle who else im the one who runs the estates while youre here risking everything we have for the glory of rome or for the glory of you im a soldier were at war i cant stay home tending the damned olive groves we dont need your help were doing great on our own  \n",
       "3                                           it makes me so mad steven schwimmer ready to strike the exterminating angel its all worked out theyll lose tonight then theyll lose tomorrow i see it with stunning clarity its your best play nicky theyll lose because theyre my team he will absolutely hate it  \n",
       "4                                                                                                                                                                                                         something ought to loosen him up how comes were going to el paso rudy i just want to find a suitcase  \n",
       "5  ill tell mike im sick theres a game tonight anyway and hell never miss me afterwards he can go out with the guys just so the record is kept straight though i love mike what do want me to do first of all well have a nice dinner try to find out where dorothy sings great ill pick you up around eigh...  \n",
       "6                                                                                                                                                                                               well i guess its getting late please thank kathryn for the use of her steinway ill see you tomorrow absolutely  \n",
       "7                                                                                                                                                                                                                             what is it rita im im oh no i thought when i woke up i thought sleep would do it  \n",
       "8                                                                         my god but the point is dickie well we know this dickie loves marge and he misses her and apparently hes come to his senses its fantastic i feel guilty marge doesnt understand this but anytime dickie does something i feel guilty  \n",
       "9  we combine everything you are my second in command what about the share you get fifteen percent i got partners your calabrian friend i will accept at least costello eats pasta like us and the jews share with them as you wish do business with them on your own but no filthy jew will ever be a brot...  "
      ]
     },
     "execution_count": 15,
     "metadata": {},
     "output_type": "execute_result"
    }
   ],
   "source": [
    "test_data['dialogue2'] = test_data.apply(remove_BR, axis=1)\n",
    "test_data['clean_dialogue'] = test_data['dialogue2'].apply(lambda x: clean_text(x))\n",
    "test_data.head(10)"
   ]
  },
  {
   "cell_type": "code",
   "execution_count": 16,
   "metadata": {
    "scrolled": true
   },
   "outputs": [
    {
     "data": {
      "image/png": "[encoded data removed]",
      "text/plain": [
       "<Figure size 864x1080 with 1 Axes>"
      ]
     },
     "metadata": {
      "needs_background": "light"
     },
     "output_type": "display_data"
    }
   ],
   "source": [
    "#test_data['clean_dialogue'] = test_data['clean_dialogue'].apply(lambda x: remove_stopwords(x))\n",
    "freq_words(test_data['clean_dialogue'], 100)"
   ]
  },
  {
   "cell_type": "code",
   "execution_count": 17,
   "metadata": {},
   "outputs": [],
   "source": [
    "multilabel_binarizer = MultiLabelBinarizer()\n",
    "multilabel_binarizer.fit(movies['genres_list'])\n",
    "\n",
    "# transform target variable\n",
    "y = multilabel_binarizer.transform(movies['genres_list'])\n",
    "\n",
    "tfidf_vectorizer = TfidfVectorizer(max_df=0.8, max_features=10000)\n",
    "# split dataset into training and validation set\n",
    "xtrain, xval, ytrain, yval = train_test_split(movies['clean_dialogue'], y, test_size=0.2, random_state=9)\n",
    "#xtrain = movies['clean_dialogue']\n",
    "#ytrain = y\n",
    "xtest = test_data['clean_dialogue']\n",
    "\n",
    "# create TF-IDF features\n",
    "xtrain_tfidf = tfidf_vectorizer.fit_transform(xtrain)\n",
    "xtest_tfidf = tfidf_vectorizer.transform(xtest)"
   ]
  },
  {
   "cell_type": "code",
   "execution_count": 18,
   "metadata": {},
   "outputs": [
    {
     "data": {
      "text/plain": [
       "array([0, 0, 0, 0, 0, 0, 1, 0, 0, 0, 0, 0, 0, 0, 0, 0, 0, 0, 0, 0])"
      ]
     },
     "execution_count": 18,
     "metadata": {},
     "output_type": "execute_result"
    }
   ],
   "source": [
    "# Binary Relevance\n",
    "lr = LogisticRegression(max_iter=1000)\n",
    "clf = OneVsRestClassifier(lr)\n",
    "\n",
    "# fit model on train data\n",
    "clf.fit(xtrain_tfidf, ytrain)\n",
    "\n",
    "# make predictions for validation set\n",
    "y_test_pred = clf.predict(xtest_tfidf)\n",
    "\n",
    "y_test_pred[3]"
   ]
  },
  {
   "cell_type": "code",
   "execution_count": 19,
   "metadata": {},
   "outputs": [
    {
     "name": "stdout",
     "output_type": "stream",
     "text": [
      "[('crime', 'drama', 'thriller'), ('drama',), ('drama',), ('drama',), ('action', 'thriller')]\n"
     ]
    }
   ],
   "source": [
    "# predict probabilities\n",
    "y_test_pred_prob = clf.predict_proba(xtest_tfidf)\n",
    "t = 0.28 # threshold value\n",
    "y_test_pred_new = (y_test_pred_prob >= t).astype(int)\n",
    "\n",
    "test_predicted_labels = multilabel_binarizer.inverse_transform(y_test_pred_new)\n",
    "print(test_predicted_labels[:5])"
   ]
  },
  {
   "cell_type": "code",
   "execution_count": 20,
   "metadata": {},
   "outputs": [],
   "source": [
    "outfile = open(\"test_preds_07_alltrain_w_stopwords.csv\", \"w\")\n",
    "print(\"id,genres\", file=outfile)\n",
    "for i in range(len(test_data['id'])):\n",
    "    genres_string = \"\"\n",
    "    if len(test_predicted_labels[i]) > 0:\n",
    "        genres_string = \" \".join(list(test_predicted_labels[i]))\n",
    "    else:\n",
    "        genres_string = \"drama\"\n",
    "    print(str(i), genres_string, sep=\",\", file=outfile)\n",
    "outfile.close()\n"
   ]
  },
  {
   "cell_type": "code",
   "execution_count": null,
   "metadata": {},
   "outputs": [],
   "source": []
  }
 ],
 "metadata": {
  "kernelspec": {
   "display_name": "Python 3",
   "language": "python",
   "name": "python3"
  },
  "language_info": {
   "codemirror_mode": {
    "name": "ipython",
    "version": 3
   },
   "file_extension": ".py",
   "mimetype": "text/x-python",
   "name": "python",
   "nbconvert_exporter": "python",
   "pygments_lexer": "ipython3",
   "version": "3.6.12"
  }
 },
 "nbformat": 4,
 "nbformat_minor": 4
}
